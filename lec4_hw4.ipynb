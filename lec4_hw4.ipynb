{
  "cells": [
    {
      "cell_type": "markdown",
      "metadata": {},
      "source": [
        "## Homework 4 \n",
        "\n",
        "+ 학번: 25101925\n",
        "+ 이름: 김현우\n",
        "\n",
        "제출방법: \n",
        "+ 1) github에 본인 repository를 만들고, 작성한 소스 코드를 upload 하세요.\n",
        "+ 2) 출력 결과는 캡처하여 README.md에 첨부하세요.\n",
        "+ 3) 자신의 github README.md 화면을 캡쳐하여 과제에 제출하세요.\n",
        "\n",
        "### Exercise 1. 노래 가사 파일에서 단어 `\"Yesterday\"`의 **개수**를 세는 프로그램을 작성하세요.\n",
        "\n",
        "### tips:\n",
        "- .upper(), .lower(), .count(), "
      ]
    },
    {
      "cell_type": "code",
      "execution_count": 14,
      "metadata": {},
      "outputs": [],
      "source": [
        "# 파일을 불러옵니다.\n",
        "with open('yesterday.txt', 'r') as f:\n",
        "    yesterday_lyric = f.read()\n",
        "    \n",
        "\n",
        "\n"
      ]
    },
    {
      "cell_type": "code",
      "execution_count": 15,
      "id": "07b0a561",
      "metadata": {},
      "outputs": [
        {
          "name": "stdout",
          "output_type": "stream",
          "text": [
            "Yesterday의 개수 : 3개\n"
          ]
        }
      ],
      "source": [
        "# TODO: Your code here\n",
        "print(f\"Yesterday의 개수 : {yesterday_lyric.count('Yesterday')}개\")\n"
      ]
    },
    {
      "cell_type": "markdown",
      "id": "d83697a5",
      "metadata": {},
      "source": [
        "## Excercise 2. Yesterday 노래엔 `Yesterday` 라는 말이 몇번나올까?\n",
        "\n",
        "+ 대소문자를 구분하여 `Yesterday`와 `yesterday`의 개수를 나눠서 세는 프로그램을 작성하세요.\n",
        "+ (정규표현식 `re` package 쓰지 말 것)\n",
        "\n",
        "+ tips\n",
        "    + .replace(), .split(), count()"
      ]
    },
    {
      "cell_type": "code",
      "execution_count": 16,
      "metadata": {},
      "outputs": [
        {
          "name": "stdout",
          "output_type": "stream",
          "text": [
            "Yesterday 개수: 3\n",
            "yesterday 개수: 6\n"
          ]
        }
      ],
      "source": [
        "# TODO: Your code here\n",
        "\n",
        "print(\"Yesterday 개수:\",(yesterday_lyric.count(\"Yesterday\")) )\n",
        "print(\"yesterday 개수:\", (yesterday_lyric.count(\"yesterday\")) )"
      ]
    }
  ],
  "metadata": {
    "kernelspec": {
      "display_name": "Python",
      "language": "python",
      "name": "python3"
    },
    "language_info": {
      "codemirror_mode": {
        "name": "ipython",
        "version": 3
      },
      "file_extension": ".py",
      "mimetype": "text/x-python",
      "name": "python",
      "nbconvert_exporter": "python",
      "pygments_lexer": "ipython3",
      "version": "3.10.18"
    }
  },
  "nbformat": 4,
  "nbformat_minor": 5
}
